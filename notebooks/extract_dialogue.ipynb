{
 "cells": [
  {
   "cell_type": "code",
   "execution_count": 100,
   "id": "a94046e9-762c-4c12-952f-9bb5dbdf4950",
   "metadata": {},
   "outputs": [],
   "source": [
    "import pandas as pd\n",
    "import json\n",
    "import os\n",
    "from tqdm import tqdm"
   ]
  },
  {
   "cell_type": "code",
   "execution_count": 103,
   "id": "05a666da-1584-4222-8cc9-9dfb0656599a",
   "metadata": {},
   "outputs": [],
   "source": [
    "with open('/opt/ml/input/dialogue_data/Training/Train/KAKAO_1000_01.json','r') as f:\n",
    "    temp = json.load(f)"
   ]
  },
  {
   "cell_type": "code",
   "execution_count": 104,
   "id": "605eb473-aff9-4bd8-b9d1-5fc8eef864c9",
   "metadata": {},
   "outputs": [
    {
     "data": {
      "text/plain": [
       "dict_keys(['dataset', 'licenses', 'info'])"
      ]
     },
     "execution_count": 104,
     "metadata": {},
     "output_type": "execute_result"
    }
   ],
   "source": [
    "temp.keys()"
   ]
  },
  {
   "cell_type": "code",
   "execution_count": 105,
   "id": "6d0f2834-8f03-449f-8de2-15720b2ac0ab",
   "metadata": {},
   "outputs": [
    {
     "data": {
      "text/plain": [
       "{'identifier': 71459,\n",
       " 'name': 'KAKAO_1000_01_set',\n",
       " 'src_path': '/data/file/cubeManager/PROJECT001/53/txt20211007113435043254/KAKAO_1000_01_set/',\n",
       " 'label_path': '/data/file/cubeManager/PROJECT001/53/txt20211007113435043254/KAKAO_1000_01_set/',\n",
       " 'category': 2,\n",
       " 'type': 0}"
      ]
     },
     "execution_count": 105,
     "metadata": {},
     "output_type": "execute_result"
    }
   ],
   "source": [
    "temp['dataset']"
   ]
  },
  {
   "cell_type": "code",
   "execution_count": 106,
   "id": "a034a26b-53c2-4e71-9670-ee23ac9bef90",
   "metadata": {},
   "outputs": [
    {
     "data": {
      "text/plain": [
       "{'name': 'Apache License 1.0',\n",
       " 'url': 'http://www.apache.org/licenses/LICENSE-1.0'}"
      ]
     },
     "execution_count": 106,
     "metadata": {},
     "output_type": "execute_result"
    }
   ],
   "source": [
    "temp['licenses']"
   ]
  },
  {
   "cell_type": "code",
   "execution_count": 136,
   "id": "314c84cd-ddfd-4b9f-b7ef-86a71e2d2d94",
   "metadata": {},
   "outputs": [
    {
     "data": {
      "text/plain": [
       "'(단언) 주장하기'"
      ]
     },
     "execution_count": 136,
     "metadata": {},
     "output_type": "execute_result"
    }
   ],
   "source": [
    "temp['info'][0]['annotations']['lines'][0]['speechAct']"
   ]
  },
  {
   "cell_type": "code",
   "execution_count": 156,
   "id": "74d2cbbc-ba5a-4bbe-8027-6b4e26b1f131",
   "metadata": {},
   "outputs": [],
   "source": [
    "def dialogue_sort(example):\n",
    "    ex_dict = {}\n",
    "    speech_Act = []\n",
    "    speech_Cat = []\n",
    "    speech_CatDeT = []\n",
    "    norm_texts = []\n",
    "    morph_list = []\n",
    "    # shortened variables\n",
    "    infos = example['info'][0]\n",
    "    annots = infos['annotations']\n",
    "    # common properties\n",
    "    ex_dict['id'] = infos['id']\n",
    "    ex_dict['media'] = infos['medianame']\n",
    "    ex_dict['date'] = infos['date']\n",
    "    ex_dict['category'] = infos['category']\n",
    "    # annotation properties\n",
    "    ex_dict['subject'] = annots['subject']\n",
    "    ex_dict['speaker_type'] = annots['speaker_type']\n",
    "    ex_dict['raw_text'] = annots['text']\n",
    "    ex_dict['raw_lines'] = annots['lines']\n",
    "    # line properties\n",
    "    for i in range(len(annots['lines'])):\n",
    "        # 화행 정보 분류\n",
    "        speech_Act.append(annots['lines'][i]['speechAct'])\n",
    "        # 0 : 미분류, 2: 지시, 1: 단언, 3: 언약, 4: 표현, 5: (선언/위임하기), 6: 턴토크 사인(관습적 반응)\n",
    "        if annots['lines'][i]['speechAct'][:4] == '(지시)':\n",
    "            speech_Cat.append(2)\n",
    "            if annots['lines'][i]['speechAct'] == '(지시) 명령/요구하기':\n",
    "                speech_CatDeT.append(21)\n",
    "            elif annots['lines'][i]['speechAct'] == '(지시) 부탁하기':\n",
    "                speech_CatDeT.append(22)\n",
    "            elif annots['lines'][i]['speechAct'] == '(지시) 질문하기':\n",
    "                speech_CatDeT.append(23)\n",
    "            elif annots['lines'][i]['speechAct'] == '(지시) 충고/제안하기':\n",
    "                speech_CatDeT.append(24)\n",
    "            else:\n",
    "                speech_CatDeT.append(20)\n",
    "        elif annots['lines'][i]['speechAct'][:4] == '(단언)':\n",
    "            speech_Cat.append(1)\n",
    "            if annots['lines'][i]['speechAct'] == '(단언) 반박하기':\n",
    "                speech_CatDeT.append(11)\n",
    "            elif annots['lines'][i]['speechAct'] == '(단언) 주장하기':\n",
    "                speech_CatDeT.append(12)\n",
    "            elif annots['lines'][i]['speechAct'] == '(단언) 진술하기':\n",
    "                speech_CatDeT.append(13)\n",
    "            else:\n",
    "                speech_CatDeT.append(10)\n",
    "        elif annots['lines'][i]['speechAct'][:4] == '(언약)':\n",
    "            speech_Cat.append(3)\n",
    "            if annots['lines'][i]['speechAct'] == '(언약) 거절하기':\n",
    "                speech_CatDeT.append(31)\n",
    "            elif annots['lines'][i]['speechAct'] == '(언약) 약속하기(제3자와)/(개인적 수준)':\n",
    "                speech_CatDeT.append(32)\n",
    "            else:\n",
    "                speech_CatDeT.append(30)\n",
    "        elif annots['lines'][i]['speechAct'][:4] == '(표현)':\n",
    "            speech_Cat.append(4)\n",
    "            if annots['lines'][i]['speechAct'] == '(표현) 감정하기':\n",
    "                speech_CatDeT.append(41)\n",
    "            elif annots['lines'][i]['speechAct'] == '(표현) 긍정감정 표현하기':\n",
    "                speech_CatDeT.append(42)\n",
    "            elif annots['lines'][i]['speechAct'] == '(표현) 부정감정 표현하기':\n",
    "                speech_CatDeT.append(43)\n",
    "            elif annots['lines'][i]['speechAct'] == '(표현) 사과하기':\n",
    "                speech_CatDeT.append(44)\n",
    "            elif annots['lines'][i]['speechAct'] == '(표현) 인사하기':\n",
    "                speech_CatDeT.append(45)\n",
    "            else:\n",
    "                speech_CatDeT.append(40)\n",
    "        elif annots['lines'][i]['speechAct'] == '(선언/위임하기)':\n",
    "            speech_Cat.append(5)\n",
    "            speech_CatDeT.append(5)\n",
    "        elif annots['lines'][i]['speechAct'] == '턴토크 사인(관습적 반응)':\n",
    "            speech_Cat.append(6)\n",
    "            speech_CatDeT.append(6)\n",
    "        else:\n",
    "            speech_Cat.append(0)\n",
    "            speech_CatDeT.append(0)\n",
    "        norm_texts.append(annots['lines'][i]['norm_text'])\n",
    "        morph_list.append(annots['lines'][i]['morpheme'])\n",
    "    # line properties to dict\n",
    "    ex_dict['norm_texts'] = norm_texts\n",
    "    ex_dict['text_morphs'] = morph_list\n",
    "    ex_dict['speech_Act'] = speech_Act\n",
    "    ex_dict['speech_Cat'] = speech_Cat\n",
    "    ex_dict['speech_CatDet'] = speech_CatDeT\n",
    "    return ex_dict"
   ]
  },
  {
   "cell_type": "code",
   "execution_count": 157,
   "id": "cf677a88-b8c7-4789-835d-e67679f5b18a",
   "metadata": {},
   "outputs": [],
   "source": [
    "train_path = \"/opt/ml/input/dialogue_data/Training/Train\"\n",
    "valid_path = \"/opt/ml/input/dialogue_data/Validation/Valid\""
   ]
  },
  {
   "cell_type": "code",
   "execution_count": 158,
   "id": "e793db0a-90d9-42e3-8b91-a676fe0cf498",
   "metadata": {},
   "outputs": [
    {
     "data": {
      "text/plain": [
       "{'id': 71543,\n",
       " 'media': '카카오톡',\n",
       " 'date': '2021-10-14',\n",
       " 'category': '일상대화',\n",
       " 'subject': '여행',\n",
       " 'speaker_type': '1:1',\n",
       " 'raw_text': '1 : 다음 주 날씨 너무 당황스러워\\n2 : 왜 비 계속 온대?\\n1 : 아니, 최저기온이 8도까지 떨어진대\\n2 : 아니 가을 어디갔어?\\n1 : 이러다가 패딩 꺼내야되는 거 아니야?\\n2 : 진짜 경량패딩입어야 될지도 모르겠다\\n1 : 난 오늘 반바지 입었다고\\n2 : 하하 반바지 입다가 경량패딩으로 바로 가\\n1 : 어느 온도에 장단을 맞춰야할지\\n2 : 아침엔 겨울 낮엔 가을인 듯해\\n1 : 감기 조심해야겠다\\n2 : 응 일교차가 심하니까\\n1 : 그래 감기조심하고 이따가 또 이야기하자~!',\n",
       " 'raw_lines': [{'id': 1,\n",
       "   'text': '1 : 다음 주 날씨 너무 당황스러워',\n",
       "   'norm_text': '다음 주 날씨 너무 당황스러워',\n",
       "   'speaker': {'id': '1번', 'sex': '여성', 'age': '30대'},\n",
       "   'speechAct': '(단언) 주장하기',\n",
       "   'morpheme': '다음/NNG+주/NNG+날씨/NNG+너무/MAG+당황/NNG+스러워/XSA+EC'},\n",
       "  {'id': 2,\n",
       "   'text': '2 : 왜 비 계속 온대?',\n",
       "   'norm_text': '왜 비 계속 온대?',\n",
       "   'speaker': {'id': '2번', 'sex': '여성', 'age': '30대'},\n",
       "   'speechAct': '(지시) 질문하기',\n",
       "   'morpheme': '왜/MAG+비/XPN+계속/NNG+온대/VV+EF'},\n",
       "  {'id': 3,\n",
       "   'text': '1 : 아니, 최저기온이 8도까지 떨어진대',\n",
       "   'norm_text': '아니, 최저기온이 8도까지 떨어진대',\n",
       "   'speaker': {'id': '1번', 'sex': '여성', 'age': '30대'},\n",
       "   'speechAct': '(단언) 진술하기',\n",
       "   'morpheme': '아니/IC+,/SC+최저/NNG+기온/NNG+이/JKS+8/SN+도/NNBC+까지/JX+떨어진대/VV+EF'},\n",
       "  {'id': 4,\n",
       "   'text': '2 : 아니 가을 어디갔어?',\n",
       "   'norm_text': '아니 가을 어디갔어?',\n",
       "   'speaker': {'id': '2번', 'sex': '여성', 'age': '30대'},\n",
       "   'speechAct': '(지시) 질문하기',\n",
       "   'morpheme': '아니/IC+가을/NNG+어디/NP+갔/VV+EP+어/EF'},\n",
       "  {'id': 5,\n",
       "   'text': '1 : 이러다가 패딩 꺼내야되는 거 아니야?',\n",
       "   'norm_text': '이러다가 패딩 꺼내야되는 거 아니야?',\n",
       "   'speaker': {'id': '1번', 'sex': '여성', 'age': '30대'},\n",
       "   'speechAct': '(단언) 주장하기',\n",
       "   'morpheme': '이러/VV+다가/EC+패딩/NNG+꺼내/VV+야/EC+되/VV+는/ETM+거/NNB+아니/VCN+야/EF'},\n",
       "  {'id': 6,\n",
       "   'text': '2 : 진짜 경량패딩입어야 될지도 모르겠다',\n",
       "   'norm_text': '진짜 경량패딩입어야 될지도 모르겠다',\n",
       "   'speaker': {'id': '2번', 'sex': '여성', 'age': '30대'},\n",
       "   'speechAct': '(단언) 주장하기',\n",
       "   'morpheme': '진짜/MAG+경량/NNG+패딩/NNG+입/VV+어야/EC+될지/VV+EC+도/JX+모르/VV+겠/EP+다/EC'},\n",
       "  {'id': 7,\n",
       "   'text': '1 : 난 오늘 반바지 입었다고',\n",
       "   'norm_text': '난 오늘 반바지 입었다고',\n",
       "   'speaker': {'id': '1번', 'sex': '여성', 'age': '30대'},\n",
       "   'speechAct': '(단언) 진술하기',\n",
       "   'morpheme': '난/NP+JX+오늘/MAG+반바지/NNG+입/VV+었/EP+다고/EC'},\n",
       "  {'id': 8,\n",
       "   'text': '2 : 하하 반바지 입다가 경량패딩으로 바로 가',\n",
       "   'norm_text': '하하 반바지 입다가 경량패딩으로 바로 가',\n",
       "   'speaker': {'id': '2번', 'sex': '여성', 'age': '30대'},\n",
       "   'speechAct': '(단언) 주장하기',\n",
       "   'morpheme': '하하/MAG+반바지/NNG+입/VV+다가/EC+경량/NNG+패딩/NNG+으로/JKB+바로/MAG+가/VV+EC'},\n",
       "  {'id': 9,\n",
       "   'text': '1 : 어느 온도에 장단을 맞춰야할지',\n",
       "   'norm_text': '어느 온도에 장단을 맞춰야할지',\n",
       "   'speaker': {'id': '1번', 'sex': '여성', 'age': '30대'},\n",
       "   'speechAct': '(단언) 주장하기',\n",
       "   'morpheme': '어느/MM+온도/NNG+에/JKB+장단/NNG+을/JKO+맞춰야/VV+EC+할지/VX+EC'},\n",
       "  {'id': 10,\n",
       "   'text': '2 : 아침엔 겨울 낮엔 가을인 듯해',\n",
       "   'norm_text': '아침엔 겨울 낮엔 가을인 듯해',\n",
       "   'speaker': {'id': '2번', 'sex': '여성', 'age': '30대'},\n",
       "   'speechAct': '(단언) 주장하기',\n",
       "   'morpheme': '아침/NNG+엔/JKB+JX+겨울/NNG+낮/NNG+엔/JKB+JX+가을/NNG+인/VCP+ETM+듯/NNB+해/XSA+EC'},\n",
       "  {'id': 11,\n",
       "   'text': '1 : 감기 조심해야겠다',\n",
       "   'norm_text': '감기 조심해야겠다',\n",
       "   'speaker': {'id': '1번', 'sex': '여성', 'age': '30대'},\n",
       "   'speechAct': '(단언) 주장하기',\n",
       "   'morpheme': '감기/NNG+조심/NNG+해야/XSV+EC+VX+겠/EP+다/EC'},\n",
       "  {'id': 12,\n",
       "   'text': '2 : 응 일교차가 심하니까',\n",
       "   'norm_text': '응 일교차가 심하니까',\n",
       "   'speaker': {'id': '2번', 'sex': '여성', 'age': '30대'},\n",
       "   'speechAct': '(단언) 진술하기',\n",
       "   'morpheme': '응/IC+일교차/NNG+가/JKS+심하/VA+니까/EC'},\n",
       "  {'id': 13,\n",
       "   'text': '1 : 그래 감기조심하고 이따가 또 이야기하자~!',\n",
       "   'norm_text': '그래 감기조심하고 이따가 또 이야기하자~!',\n",
       "   'speaker': {'id': '1번', 'sex': '여성', 'age': '30대'},\n",
       "   'speechAct': '(언약) 약속하기(제3자와)/(개인적 수준)',\n",
       "   'morpheme': '그래/IC+감기/NNG+조심/NNG+하/XSV+고/EC+이따가/MAG+또/MAG+이야기/NNG+하/XSV+자/EC+~/SY'}],\n",
       " 'norm_texts': ['다음 주 날씨 너무 당황스러워',\n",
       "  '왜 비 계속 온대?',\n",
       "  '아니, 최저기온이 8도까지 떨어진대',\n",
       "  '아니 가을 어디갔어?',\n",
       "  '이러다가 패딩 꺼내야되는 거 아니야?',\n",
       "  '진짜 경량패딩입어야 될지도 모르겠다',\n",
       "  '난 오늘 반바지 입었다고',\n",
       "  '하하 반바지 입다가 경량패딩으로 바로 가',\n",
       "  '어느 온도에 장단을 맞춰야할지',\n",
       "  '아침엔 겨울 낮엔 가을인 듯해',\n",
       "  '감기 조심해야겠다',\n",
       "  '응 일교차가 심하니까',\n",
       "  '그래 감기조심하고 이따가 또 이야기하자~!'],\n",
       " 'text_morphs': ['다음/NNG+주/NNG+날씨/NNG+너무/MAG+당황/NNG+스러워/XSA+EC',\n",
       "  '왜/MAG+비/XPN+계속/NNG+온대/VV+EF',\n",
       "  '아니/IC+,/SC+최저/NNG+기온/NNG+이/JKS+8/SN+도/NNBC+까지/JX+떨어진대/VV+EF',\n",
       "  '아니/IC+가을/NNG+어디/NP+갔/VV+EP+어/EF',\n",
       "  '이러/VV+다가/EC+패딩/NNG+꺼내/VV+야/EC+되/VV+는/ETM+거/NNB+아니/VCN+야/EF',\n",
       "  '진짜/MAG+경량/NNG+패딩/NNG+입/VV+어야/EC+될지/VV+EC+도/JX+모르/VV+겠/EP+다/EC',\n",
       "  '난/NP+JX+오늘/MAG+반바지/NNG+입/VV+었/EP+다고/EC',\n",
       "  '하하/MAG+반바지/NNG+입/VV+다가/EC+경량/NNG+패딩/NNG+으로/JKB+바로/MAG+가/VV+EC',\n",
       "  '어느/MM+온도/NNG+에/JKB+장단/NNG+을/JKO+맞춰야/VV+EC+할지/VX+EC',\n",
       "  '아침/NNG+엔/JKB+JX+겨울/NNG+낮/NNG+엔/JKB+JX+가을/NNG+인/VCP+ETM+듯/NNB+해/XSA+EC',\n",
       "  '감기/NNG+조심/NNG+해야/XSV+EC+VX+겠/EP+다/EC',\n",
       "  '응/IC+일교차/NNG+가/JKS+심하/VA+니까/EC',\n",
       "  '그래/IC+감기/NNG+조심/NNG+하/XSV+고/EC+이따가/MAG+또/MAG+이야기/NNG+하/XSV+자/EC+~/SY'],\n",
       " 'speech_Act': ['(단언) 주장하기',\n",
       "  '(지시) 질문하기',\n",
       "  '(단언) 진술하기',\n",
       "  '(지시) 질문하기',\n",
       "  '(단언) 주장하기',\n",
       "  '(단언) 주장하기',\n",
       "  '(단언) 진술하기',\n",
       "  '(단언) 주장하기',\n",
       "  '(단언) 주장하기',\n",
       "  '(단언) 주장하기',\n",
       "  '(단언) 주장하기',\n",
       "  '(단언) 진술하기',\n",
       "  '(언약) 약속하기(제3자와)/(개인적 수준)'],\n",
       " 'speech_Cat': [1, 2, 1, 2, 1, 1, 1, 1, 1, 1, 1, 1, 3],\n",
       " 'speech_CatDet': [12, 23, 13, 23, 12, 12, 13, 12, 12, 12, 12, 13, 32]}"
      ]
     },
     "execution_count": 158,
     "metadata": {},
     "output_type": "execute_result"
    }
   ],
   "source": [
    "dialogue_sort(temp)"
   ]
  },
  {
   "cell_type": "code",
   "execution_count": 166,
   "id": "1034660d-9abe-47d3-86d2-fbc134632d14",
   "metadata": {},
   "outputs": [
    {
     "name": "stderr",
     "output_type": "stream",
     "text": [
      "100%|██████████| 10962/10962 [00:02<00:00, 4697.69it/s]\n"
     ]
    }
   ],
   "source": [
    "data_list = []\n",
    "extra_list = []\n",
    "# train path / valid path switch\n",
    "for (root, directories, files) in os.walk(valid_path):\n",
    "    for file in tqdm(files):\n",
    "        if '.json' in file:\n",
    "            file_path = os.path.join(root, file)\n",
    "            with open(file_path,'r') as f:\n",
    "                try:\n",
    "                    temp = json.load(f)\n",
    "                    data_list.append(dialogue_sort(temp))\n",
    "                except:\n",
    "                    extra_list.append(file_path)"
   ]
  },
  {
   "cell_type": "code",
   "execution_count": 160,
   "id": "4e6af0b8-980e-4ced-9cf4-7d2cd0e29bd0",
   "metadata": {},
   "outputs": [
    {
     "data": {
      "text/plain": [
       "87689"
      ]
     },
     "execution_count": 160,
     "metadata": {},
     "output_type": "execute_result"
    }
   ],
   "source": [
    "len(data_list)"
   ]
  },
  {
   "cell_type": "code",
   "execution_count": 161,
   "id": "c3bc01fc-e3bb-4346-b5a8-d9de3f80051c",
   "metadata": {},
   "outputs": [
    {
     "data": {
      "text/plain": [
       "1"
      ]
     },
     "execution_count": 161,
     "metadata": {},
     "output_type": "execute_result"
    }
   ],
   "source": [
    "len(extra_list)"
   ]
  },
  {
   "cell_type": "code",
   "execution_count": 162,
   "id": "da7ad786-74e1-481f-9bfb-40a8a85b97be",
   "metadata": {},
   "outputs": [
    {
     "data": {
      "text/plain": [
       "'/opt/ml/input/dialogue_data/Training/Train/KAKAO_1648_13.json'"
      ]
     },
     "execution_count": 162,
     "metadata": {},
     "output_type": "execute_result"
    }
   ],
   "source": [
    "pd.DataFrame(extra_list)[0][0]"
   ]
  },
  {
   "cell_type": "code",
   "execution_count": 164,
   "id": "1c3ba52b-072d-47e8-a1e1-feb9a871a63a",
   "metadata": {},
   "outputs": [
    {
     "data": {
      "text/html": [
       "<div>\n",
       "<style scoped>\n",
       "    .dataframe tbody tr th:only-of-type {\n",
       "        vertical-align: middle;\n",
       "    }\n",
       "\n",
       "    .dataframe tbody tr th {\n",
       "        vertical-align: top;\n",
       "    }\n",
       "\n",
       "    .dataframe thead th {\n",
       "        text-align: right;\n",
       "    }\n",
       "</style>\n",
       "<table border=\"1\" class=\"dataframe\">\n",
       "  <thead>\n",
       "    <tr style=\"text-align: right;\">\n",
       "      <th></th>\n",
       "      <th>id</th>\n",
       "      <th>media</th>\n",
       "      <th>date</th>\n",
       "      <th>category</th>\n",
       "      <th>subject</th>\n",
       "      <th>speaker_type</th>\n",
       "      <th>raw_text</th>\n",
       "      <th>raw_lines</th>\n",
       "      <th>norm_texts</th>\n",
       "      <th>text_morphs</th>\n",
       "      <th>speech_Act</th>\n",
       "      <th>speech_Cat</th>\n",
       "      <th>speech_CatDet</th>\n",
       "    </tr>\n",
       "  </thead>\n",
       "  <tbody>\n",
       "    <tr>\n",
       "      <th>0</th>\n",
       "      <td>132160</td>\n",
       "      <td>카카오톡</td>\n",
       "      <td>2021-11-03</td>\n",
       "      <td>일상대화</td>\n",
       "      <td>교통</td>\n",
       "      <td>다자간 대화</td>\n",
       "      <td>1 : 버스타고 기분 좋았던 경험?\\n2 : 나는 버스타고 정처없이 떠돌 때 기분 ...</td>\n",
       "      <td>[{'id': 1, 'text': '1 : 버스타고 기분 좋았던 경험?', 'nor...</td>\n",
       "      <td>[버스타고 기분 좋았던 경험?, 나는 버스타고 정처없이 떠돌 때 기분 좋더라, 사람...</td>\n",
       "      <td>[버스/NNG+타/VV+고/EC+기분/NNG+좋/VA+았/EP+던/ETM+경험/NN...</td>\n",
       "      <td>[(지시) 질문하기, (표현) 긍정감정 표현하기, (표현) 긍정감정 표현하기, (단...</td>\n",
       "      <td>[2, 4, 4, 1, 1, 4, 2, 1, 2, 4, 2, 4]</td>\n",
       "      <td>[23, 42, 42, 13, 12, 42, 23, 11, 23, 42, 23, 43]</td>\n",
       "    </tr>\n",
       "    <tr>\n",
       "      <th>1</th>\n",
       "      <td>46838</td>\n",
       "      <td>카카오톡</td>\n",
       "      <td>2021-10-06</td>\n",
       "      <td>일상대화</td>\n",
       "      <td>미용</td>\n",
       "      <td>1:1</td>\n",
       "      <td>1 : 요즘 모공관리가 고민이야.\\n1 : 모공관리하는 너만의 비법이 있니?\\n2 ...</td>\n",
       "      <td>[{'id': 1, 'text': '1 : 요즘 모공관리가 고민이야.', 'norm...</td>\n",
       "      <td>[요즘 모공관리가 고민이야., 모공관리하는 너만의 비법이 있니?, 나는 가끔 스크럽...</td>\n",
       "      <td>[요즘/NNG+모공/NNG+관리/NNG+가/JKS+고민/NNG+이/VCP+야/EF,...</td>\n",
       "      <td>[(단언) 주장하기, (지시) 질문하기, (단언) 진술하기, (단언) 진술하기, (...</td>\n",
       "      <td>[1, 2, 1, 1, 1, 1, 1, 1, 1, 1, 1, 1, 1]</td>\n",
       "      <td>[12, 23, 13, 13, 12, 13, 13, 13, 13, 13, 12, 1...</td>\n",
       "    </tr>\n",
       "    <tr>\n",
       "      <th>2</th>\n",
       "      <td>133919</td>\n",
       "      <td>카카오톡</td>\n",
       "      <td>2021-11-03</td>\n",
       "      <td>일상대화</td>\n",
       "      <td>미용</td>\n",
       "      <td>다자간 대화</td>\n",
       "      <td>1 : 피부에 젤 중요한 건 선크림이다!\\n2 : 맞아 키키 선크림 매일 바르고 다...</td>\n",
       "      <td>[{'id': 1, 'text': '1 : 피부에 젤 중요한 건 선크림이다!', '...</td>\n",
       "      <td>[피부에 젤 중요한 건 선크림이다!, 맞아 키키 선크림 매일 바르고 다니지, 선크림...</td>\n",
       "      <td>[피부/NNG+에/JKB+젤/MAG+중요/NNG+한/XSA+ETM+건/NNB+JX+...</td>\n",
       "      <td>[(단언) 진술하기, (단언) 진술하기, (단언) 진술하기, (단언) 주장하기, (...</td>\n",
       "      <td>[1, 1, 1, 1, 1, 1, 1, 1, 2, 1, 1, 2, 1, 1, 1, ...</td>\n",
       "      <td>[13, 13, 13, 12, 13, 12, 13, 13, 23, 12, 12, 2...</td>\n",
       "    </tr>\n",
       "    <tr>\n",
       "      <th>3</th>\n",
       "      <td>90019</td>\n",
       "      <td>카카오톡</td>\n",
       "      <td>2021-10-25</td>\n",
       "      <td>일상대화</td>\n",
       "      <td>교통</td>\n",
       "      <td>1:1</td>\n",
       "      <td>1 : 회사랑은 위치 가깝나 ?\\n2 : 차 타고 30분 정도?\\n1 : 아 꽤 거...</td>\n",
       "      <td>[{'id': 1, 'text': '1 : 회사랑은 위치 가깝나 ?', 'norm_...</td>\n",
       "      <td>[회사랑은 위치 가깝나 ?, 차 타고 30분 정도?, 아 꽤 거리가 있는 편이네 ?...</td>\n",
       "      <td>[회사/NNG+랑/JKB+은/JX+위치/NNG+가깝/VA+나/EF, 차/NNG+타/...</td>\n",
       "      <td>[(지시) 질문하기, (단언) 주장하기, (단언) 진술하기, (단언) 주장하기, (...</td>\n",
       "      <td>[2, 1, 1, 1, 1, 1, 1, 2, 1, 1, 1, 1, 1, 1, 2, ...</td>\n",
       "      <td>[23, 12, 13, 12, 12, 12, 12, 23, 12, 12, 12, 1...</td>\n",
       "    </tr>\n",
       "    <tr>\n",
       "      <th>4</th>\n",
       "      <td>81331</td>\n",
       "      <td>카카오톡</td>\n",
       "      <td>2021-10-20</td>\n",
       "      <td>일상대화</td>\n",
       "      <td>미용</td>\n",
       "      <td>1:1</td>\n",
       "      <td>1 : 요즘 미장원에 손님들이 많아요?\\n2 : 코로나 초창기에는 얼마 없었는데 요...</td>\n",
       "      <td>[{'id': 1, 'text': '1 : 요즘 미장원에 손님들이 많아요?', 'n...</td>\n",
       "      <td>[요즘 미장원에 손님들이 많아요?, 코로나 초창기에는 얼마 없었는데 요즘엔 많아졌어...</td>\n",
       "      <td>[요즘/NNG+미장원/NNG+에/JKB+손님/NNG+들/XSN+이/JKS+많/VA+...</td>\n",
       "      <td>[(지시) 질문하기, (단언) 진술하기, (단언) 주장하기, (단언) 주장하기, (...</td>\n",
       "      <td>[2, 1, 1, 1, 1, 1, 1, 1, 1, 1]</td>\n",
       "      <td>[23, 13, 12, 12, 12, 12, 12, 13, 13, 12]</td>\n",
       "    </tr>\n",
       "  </tbody>\n",
       "</table>\n",
       "</div>"
      ],
      "text/plain": [
       "       id media        date category subject speaker_type  \\\n",
       "0  132160  카카오톡  2021-11-03     일상대화      교통       다자간 대화   \n",
       "1   46838  카카오톡  2021-10-06     일상대화      미용          1:1   \n",
       "2  133919  카카오톡  2021-11-03     일상대화      미용       다자간 대화   \n",
       "3   90019  카카오톡  2021-10-25     일상대화      교통          1:1   \n",
       "4   81331  카카오톡  2021-10-20     일상대화      미용          1:1   \n",
       "\n",
       "                                            raw_text  \\\n",
       "0  1 : 버스타고 기분 좋았던 경험?\\n2 : 나는 버스타고 정처없이 떠돌 때 기분 ...   \n",
       "1  1 : 요즘 모공관리가 고민이야.\\n1 : 모공관리하는 너만의 비법이 있니?\\n2 ...   \n",
       "2  1 : 피부에 젤 중요한 건 선크림이다!\\n2 : 맞아 키키 선크림 매일 바르고 다...   \n",
       "3  1 : 회사랑은 위치 가깝나 ?\\n2 : 차 타고 30분 정도?\\n1 : 아 꽤 거...   \n",
       "4  1 : 요즘 미장원에 손님들이 많아요?\\n2 : 코로나 초창기에는 얼마 없었는데 요...   \n",
       "\n",
       "                                           raw_lines  \\\n",
       "0  [{'id': 1, 'text': '1 : 버스타고 기분 좋았던 경험?', 'nor...   \n",
       "1  [{'id': 1, 'text': '1 : 요즘 모공관리가 고민이야.', 'norm...   \n",
       "2  [{'id': 1, 'text': '1 : 피부에 젤 중요한 건 선크림이다!', '...   \n",
       "3  [{'id': 1, 'text': '1 : 회사랑은 위치 가깝나 ?', 'norm_...   \n",
       "4  [{'id': 1, 'text': '1 : 요즘 미장원에 손님들이 많아요?', 'n...   \n",
       "\n",
       "                                          norm_texts  \\\n",
       "0  [버스타고 기분 좋았던 경험?, 나는 버스타고 정처없이 떠돌 때 기분 좋더라, 사람...   \n",
       "1  [요즘 모공관리가 고민이야., 모공관리하는 너만의 비법이 있니?, 나는 가끔 스크럽...   \n",
       "2  [피부에 젤 중요한 건 선크림이다!, 맞아 키키 선크림 매일 바르고 다니지, 선크림...   \n",
       "3  [회사랑은 위치 가깝나 ?, 차 타고 30분 정도?, 아 꽤 거리가 있는 편이네 ?...   \n",
       "4  [요즘 미장원에 손님들이 많아요?, 코로나 초창기에는 얼마 없었는데 요즘엔 많아졌어...   \n",
       "\n",
       "                                         text_morphs  \\\n",
       "0  [버스/NNG+타/VV+고/EC+기분/NNG+좋/VA+았/EP+던/ETM+경험/NN...   \n",
       "1  [요즘/NNG+모공/NNG+관리/NNG+가/JKS+고민/NNG+이/VCP+야/EF,...   \n",
       "2  [피부/NNG+에/JKB+젤/MAG+중요/NNG+한/XSA+ETM+건/NNB+JX+...   \n",
       "3  [회사/NNG+랑/JKB+은/JX+위치/NNG+가깝/VA+나/EF, 차/NNG+타/...   \n",
       "4  [요즘/NNG+미장원/NNG+에/JKB+손님/NNG+들/XSN+이/JKS+많/VA+...   \n",
       "\n",
       "                                          speech_Act  \\\n",
       "0  [(지시) 질문하기, (표현) 긍정감정 표현하기, (표현) 긍정감정 표현하기, (단...   \n",
       "1  [(단언) 주장하기, (지시) 질문하기, (단언) 진술하기, (단언) 진술하기, (...   \n",
       "2  [(단언) 진술하기, (단언) 진술하기, (단언) 진술하기, (단언) 주장하기, (...   \n",
       "3  [(지시) 질문하기, (단언) 주장하기, (단언) 진술하기, (단언) 주장하기, (...   \n",
       "4  [(지시) 질문하기, (단언) 진술하기, (단언) 주장하기, (단언) 주장하기, (...   \n",
       "\n",
       "                                          speech_Cat  \\\n",
       "0               [2, 4, 4, 1, 1, 4, 2, 1, 2, 4, 2, 4]   \n",
       "1            [1, 2, 1, 1, 1, 1, 1, 1, 1, 1, 1, 1, 1]   \n",
       "2  [1, 1, 1, 1, 1, 1, 1, 1, 2, 1, 1, 2, 1, 1, 1, ...   \n",
       "3  [2, 1, 1, 1, 1, 1, 1, 2, 1, 1, 1, 1, 1, 1, 2, ...   \n",
       "4                     [2, 1, 1, 1, 1, 1, 1, 1, 1, 1]   \n",
       "\n",
       "                                       speech_CatDet  \n",
       "0   [23, 42, 42, 13, 12, 42, 23, 11, 23, 42, 23, 43]  \n",
       "1  [12, 23, 13, 13, 12, 13, 13, 13, 13, 13, 12, 1...  \n",
       "2  [13, 13, 13, 12, 13, 12, 13, 13, 23, 12, 12, 2...  \n",
       "3  [23, 12, 13, 12, 12, 12, 12, 23, 12, 12, 12, 1...  \n",
       "4           [23, 13, 12, 12, 12, 12, 12, 13, 13, 12]  "
      ]
     },
     "execution_count": 164,
     "metadata": {},
     "output_type": "execute_result"
    }
   ],
   "source": [
    "pd.DataFrame(data_list).head(5)"
   ]
  },
  {
   "cell_type": "code",
   "execution_count": 167,
   "id": "2f686976-d61f-4b44-bbd1-2a416086614e",
   "metadata": {},
   "outputs": [],
   "source": [
    "pd.DataFrame(data_list).to_csv('/opt/ml/input/dialogue_data/valid.csv')"
   ]
  },
  {
   "cell_type": "code",
   "execution_count": null,
   "id": "3093088d-a4ec-444f-95fc-0128c46ea294",
   "metadata": {},
   "outputs": [],
   "source": []
  }
 ],
 "metadata": {
  "kernelspec": {
   "display_name": "Python 3 (ipykernel)",
   "language": "python",
   "name": "python3"
  },
  "language_info": {
   "codemirror_mode": {
    "name": "ipython",
    "version": 3
   },
   "file_extension": ".py",
   "mimetype": "text/x-python",
   "name": "python",
   "nbconvert_exporter": "python",
   "pygments_lexer": "ipython3",
   "version": "3.8.5"
  }
 },
 "nbformat": 4,
 "nbformat_minor": 5
}
